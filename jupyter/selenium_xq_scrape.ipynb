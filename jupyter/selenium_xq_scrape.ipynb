{
 "cells": [
  {
   "cell_type": "code",
   "execution_count": null,
   "metadata": {},
   "outputs": [],
   "source": [
    "\n",
    "from selenium import webdriver\n",
    "from selenium.webdriver.chrome.service import Service\n",
    "from selenium.webdriver.chrome.options import Options\n",
    "from webdriver_manager.chrome import ChromeDriverManager\n",
    "\n",
    "import os\n",
    "os.environ.pop('HTTP_PROXY', None)\n",
    "os.environ.pop('HTTPS_PROXY', None)\n",
    "os.environ.pop('http_proxy', None)\n",
    "os.environ.pop('https_proxy', None)\n",
    "\n",
    "# Set up the Chrome driver\n",
    "options = Options()\n",
    "options.add_argument('--headless')\n",
    "options.add_argument('--no-sandbox')\n",
    "options.add_argument('--disable-dev-shm-usage')\n",
    "driver = webdriver.Chrome(options=options)\n",
    "\n",
    "# Navigate to the website\n",
    "driver.get(\"https://xueqiu.com/\")\n",
    "\n",
    "# Print the page title\n",
    "print(driver.title)\n",
    "\n",
    "# Get the page source\n",
    "page_source = driver.page_source\n",
    "\n",
    "# Get cookies\n",
    "print(\"Getting cookies...\")\n",
    "cookies = driver.get_cookies()\n",
    "print(\"Cookies:\", cookies)\n",
    "cookie_str = str()\n",
    "for cookie in cookies:\n",
    "      cookie_str += cookie['name']\n",
    "      cookie_str +='='\n",
    "      cookie_str += cookie['value']\n",
    "      cookie_str +='; '\n",
    "\n",
    "# Close the browser\n",
    "# print(cookie_str)\n",
    "driver.close()"
   ]
  },
  {
   "cell_type": "markdown",
   "metadata": {},
   "source": [
    "driver.get_page"
   ]
  }
 ],
 "metadata": {
  "kernelspec": {
   "display_name": "quantfree",
   "language": "python",
   "name": "python3"
  },
  "language_info": {
   "codemirror_mode": {
    "name": "ipython",
    "version": 3
   },
   "file_extension": ".py",
   "mimetype": "text/x-python",
   "name": "python",
   "nbconvert_exporter": "python",
   "pygments_lexer": "ipython3",
   "version": "3.12.3"
  }
 },
 "nbformat": 4,
 "nbformat_minor": 2
}
